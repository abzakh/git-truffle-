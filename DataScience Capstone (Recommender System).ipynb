{
    "cells": [
        {
            "cell_type": "markdown",
            "metadata": {
                "collapsed": true
            },
            "source": "# Capstone Project - The Battle of the Neighborhoods\n### Applied Data Science Capstone by IBM/Coursera"
        },
        {
            "cell_type": "markdown",
            "metadata": {},
            "source": "## Table of contents\n* [Introduction: Business Problem](#introduction)\n* [Data](#data)\n* [Building the Recommender System](#recommender)\n* [Results and Discussion](#discussion)\n* [Conclusion and Future Direction](#conclusion)"
        },
        {
            "cell_type": "markdown",
            "metadata": {},
            "source": "## Introduction: Business Problem <a name=\"introduction\"></a>"
        },
        {
            "cell_type": "markdown",
            "metadata": {},
            "source": "In this project we will attempt to build a **recommender system** that will generate clusters containing multiple venue categories and the respective neighborhoods in which those venues exist in the city of Toronto. This should ultimately help those who are seeking to open a shop/restaurant/etc. and are in search for a rough estimate as to which neighborhood will be the best fit.\n\nThe recommender system will present multiple venue categories in each cluster and will leave the choice to the person in interest to select the cluster that best suit their purpose. \n\nThe project will be utilizing two main data science approaches (k-means clustering and recommender systems) in order to end up with the desired results. The following sections will include an explanation of the data that will be utilized, data sources, the methodology followed and the analysis that was carried out and finally the conclusion and discussion section."
        },
        {
            "cell_type": "markdown",
            "metadata": {},
            "source": "## Data <a name=\"data\"></a>"
        },
        {
            "cell_type": "markdown",
            "metadata": {},
            "source": "Based on the definition of the problem, the factor/s that will influence our decission are:\n* The most common venues/venue categories in each neighborhood or borough\n* The cut-off point for the most common venue to take into consideration\n\nFollowing data sources will be needed to extract/generate the required information:\n* The first data source that will be used is a **wikipedia page** which will help in obtaining the neighborhoods' names, postal codes, boroughs' name for the city of Toronto\n* The venue categories, their locations in every neighborhood and their count will be obtained using **Foursquare API**\n* The coordinates (lats/longs) of each neighborhood will be obtained from **CSV** file that was earlier shared by the course instructors\n* The code in **Part 1**, **Part 2** & **Part 3** will be used to obtain the required data in order to conduct the analysis"
        },
        {
            "cell_type": "markdown",
            "metadata": {},
            "source": "## Part Number 1: Web Scarbing and Data Wrangling"
        },
        {
            "cell_type": "markdown",
            "metadata": {},
            "source": "### We start by importing the libraries that will help us in putting the dataframe into place"
        },
        {
            "cell_type": "code",
            "execution_count": 1,
            "metadata": {},
            "outputs": [],
            "source": "# Importing the necessary libraries to complete the assignment - Data Wrangling and Web Scrabbing\nimport pandas as pd\npd.set_option('display.max_columns', None)\npd.set_option('display.max_rows', None)\nimport numpy as np\nimport requests\nfrom bs4 import BeautifulSoup"
        },
        {
            "cell_type": "code",
            "execution_count": 2,
            "metadata": {},
            "outputs": [],
            "source": "# Importing the Libraries that have to do with the geospatial data/plotting/Clustering\n# !conda install -c conda-forge geopy --yes\nfrom geopy.geocoders import Nominatim # convert an address into latitude and longitude values\n\n# Matplotlib and associated plotting modules\nimport matplotlib.cm as cm\nimport matplotlib.colors as colors\nimport seaborn as sns\n\n# import k-means from clustering stage\nfrom sklearn.cluster import KMeans\nfrom sklearn.neighbors import KNeighborsClassifier"
        },
        {
            "cell_type": "markdown",
            "metadata": {},
            "source": "### We set up the variables and import the table from the wiki page and prepare the columns and rows for the dataframe"
        },
        {
            "cell_type": "code",
            "execution_count": 4,
            "metadata": {},
            "outputs": [],
            "source": "# Setting up the variables\nURL = 'https://en.wikipedia.org/wiki/List_of_postal_codes_of_Canada:_M'\nresponse = requests.get(URL)\nsoup = BeautifulSoup(response.text, 'html.parser')\ntable = soup.find('table',{'class':'wikitable sortable'}).tbody\n\n# Preparing the Rows and Columns for the DataFrame\nrows = table.find_all('tr')\ncolumns = [v.text.replace('\\n','') for v in rows[0].find_all('th')]\ndf = pd.DataFrame(columns=columns)"
        },
        {
            "cell_type": "markdown",
            "metadata": {},
            "source": "### Populating the dataframe with the data from the wiki table"
        },
        {
            "cell_type": "code",
            "execution_count": 5,
            "metadata": {},
            "outputs": [
                {
                    "data": {
                        "text/html": "<div>\n<style scoped>\n    .dataframe tbody tr th:only-of-type {\n        vertical-align: middle;\n    }\n\n    .dataframe tbody tr th {\n        vertical-align: top;\n    }\n\n    .dataframe thead th {\n        text-align: right;\n    }\n</style>\n<table border=\"1\" class=\"dataframe\">\n  <thead>\n    <tr style=\"text-align: right;\">\n      <th></th>\n      <th>Postal Code</th>\n      <th>Borough</th>\n      <th>Neighborhood</th>\n    </tr>\n  </thead>\n  <tbody>\n    <tr>\n      <th>0</th>\n      <td>M1A</td>\n      <td>Not assigned</td>\n      <td>Not assigned</td>\n    </tr>\n    <tr>\n      <th>1</th>\n      <td>M2A</td>\n      <td>Not assigned</td>\n      <td>Not assigned</td>\n    </tr>\n    <tr>\n      <th>2</th>\n      <td>M3A</td>\n      <td>North York</td>\n      <td>Parkwoods</td>\n    </tr>\n    <tr>\n      <th>3</th>\n      <td>M4A</td>\n      <td>North York</td>\n      <td>Victoria Village</td>\n    </tr>\n    <tr>\n      <th>4</th>\n      <td>M5A</td>\n      <td>Downtown Toronto</td>\n      <td>Regent Park, Harbourfront</td>\n    </tr>\n  </tbody>\n</table>\n</div>",
                        "text/plain": "  Postal Code           Borough               Neighborhood\n0         M1A      Not assigned               Not assigned\n1         M2A      Not assigned               Not assigned\n2         M3A        North York                  Parkwoods\n3         M4A        North York           Victoria Village\n4         M5A  Downtown Toronto  Regent Park, Harbourfront"
                    },
                    "execution_count": 5,
                    "metadata": {},
                    "output_type": "execute_result"
                }
            ],
            "source": "# Looping to populate the dataframe\nfor i in range(1,len(rows)):\n    tds = rows[i].find_all('td')\n    values = [td.text.replace('\\n','') for td in tds]\n    df = df.append(pd.Series(values,index=columns), ignore_index=True)\ndf.head()"
        },
        {
            "cell_type": "markdown",
            "metadata": {},
            "source": "### Now, We will be removing the **Not assigned** Cells from the DataFrame"
        },
        {
            "cell_type": "code",
            "execution_count": 6,
            "metadata": {},
            "outputs": [
                {
                    "data": {
                        "text/html": "<div>\n<style scoped>\n    .dataframe tbody tr th:only-of-type {\n        vertical-align: middle;\n    }\n\n    .dataframe tbody tr th {\n        vertical-align: top;\n    }\n\n    .dataframe thead th {\n        text-align: right;\n    }\n</style>\n<table border=\"1\" class=\"dataframe\">\n  <thead>\n    <tr style=\"text-align: right;\">\n      <th></th>\n      <th>Postal Code</th>\n      <th>Borough</th>\n      <th>Neighborhood</th>\n    </tr>\n  </thead>\n  <tbody>\n    <tr>\n      <th>0</th>\n      <td>M3A</td>\n      <td>North York</td>\n      <td>Parkwoods</td>\n    </tr>\n    <tr>\n      <th>1</th>\n      <td>M4A</td>\n      <td>North York</td>\n      <td>Victoria Village</td>\n    </tr>\n    <tr>\n      <th>2</th>\n      <td>M5A</td>\n      <td>Downtown Toronto</td>\n      <td>Regent Park, Harbourfront</td>\n    </tr>\n    <tr>\n      <th>3</th>\n      <td>M6A</td>\n      <td>North York</td>\n      <td>Lawrence Manor, Lawrence Heights</td>\n    </tr>\n    <tr>\n      <th>4</th>\n      <td>M7A</td>\n      <td>Downtown Toronto</td>\n      <td>Queen's Park, Ontario Provincial Government</td>\n    </tr>\n  </tbody>\n</table>\n</div>",
                        "text/plain": "  Postal Code           Borough                                 Neighborhood\n0         M3A        North York                                    Parkwoods\n1         M4A        North York                             Victoria Village\n2         M5A  Downtown Toronto                    Regent Park, Harbourfront\n3         M6A        North York             Lawrence Manor, Lawrence Heights\n4         M7A  Downtown Toronto  Queen's Park, Ontario Provincial Government"
                    },
                    "execution_count": 6,
                    "metadata": {},
                    "output_type": "execute_result"
                }
            ],
            "source": "# data wrangling to remove the \"Not assigned\" cells\ndf_new = df.set_index('Borough')\ndf_new.drop('Not assigned',inplace=True)\ndf_new = df_new.reset_index()\ndf_new = df_new[['Postal Code','Borough','Neighborhood']]\ndf_new.head()"
        },
        {
            "cell_type": "markdown",
            "metadata": {},
            "source": "## Part Number 2: Getting the Lats/Longs for the Neighborhoods <a name=\"data\"></a>"
        },
        {
            "cell_type": "markdown",
            "metadata": {},
            "source": "### First, we download the geospatial data"
        },
        {
            "cell_type": "code",
            "execution_count": 7,
            "metadata": {},
            "outputs": [
                {
                    "data": {
                        "text/html": "<div>\n<style scoped>\n    .dataframe tbody tr th:only-of-type {\n        vertical-align: middle;\n    }\n\n    .dataframe tbody tr th {\n        vertical-align: top;\n    }\n\n    .dataframe thead th {\n        text-align: right;\n    }\n</style>\n<table border=\"1\" class=\"dataframe\">\n  <thead>\n    <tr style=\"text-align: right;\">\n      <th></th>\n      <th>PC</th>\n      <th>Latitude</th>\n      <th>Longitude</th>\n    </tr>\n  </thead>\n  <tbody>\n    <tr>\n      <th>0</th>\n      <td>M1B</td>\n      <td>43.806686</td>\n      <td>-79.194353</td>\n    </tr>\n    <tr>\n      <th>1</th>\n      <td>M1C</td>\n      <td>43.784535</td>\n      <td>-79.160497</td>\n    </tr>\n    <tr>\n      <th>2</th>\n      <td>M1E</td>\n      <td>43.763573</td>\n      <td>-79.188711</td>\n    </tr>\n    <tr>\n      <th>3</th>\n      <td>M1G</td>\n      <td>43.770992</td>\n      <td>-79.216917</td>\n    </tr>\n    <tr>\n      <th>4</th>\n      <td>M1H</td>\n      <td>43.773136</td>\n      <td>-79.239476</td>\n    </tr>\n  </tbody>\n</table>\n</div>",
                        "text/plain": "    PC   Latitude  Longitude\n0  M1B  43.806686 -79.194353\n1  M1C  43.784535 -79.160497\n2  M1E  43.763573 -79.188711\n3  M1G  43.770992 -79.216917\n4  M1H  43.773136 -79.239476"
                    },
                    "execution_count": 7,
                    "metadata": {},
                    "output_type": "execute_result"
                }
            ],
            "source": "# Downloading the geospatial data\n!wget -q -O 'Geospatial_data.csv' http://cocl.us/Geospatial_data\ngeospatial_df = pd.read_csv('Geospatial_data.csv')\ngeospatial_df = geospatial_df.rename(columns={'Postal Code':'PC'})\ngeospatial_df.head()"
        },
        {
            "cell_type": "markdown",
            "metadata": {},
            "source": "### We merge the two dataframes in order to have it in a format ready for analysis"
        },
        {
            "cell_type": "code",
            "execution_count": 8,
            "metadata": {},
            "outputs": [
                {
                    "data": {
                        "text/html": "<div>\n<style scoped>\n    .dataframe tbody tr th:only-of-type {\n        vertical-align: middle;\n    }\n\n    .dataframe tbody tr th {\n        vertical-align: top;\n    }\n\n    .dataframe thead th {\n        text-align: right;\n    }\n</style>\n<table border=\"1\" class=\"dataframe\">\n  <thead>\n    <tr style=\"text-align: right;\">\n      <th></th>\n      <th>Postal Code</th>\n      <th>Borough</th>\n      <th>Neighborhood</th>\n      <th>Latitude</th>\n      <th>Longitude</th>\n    </tr>\n  </thead>\n  <tbody>\n    <tr>\n      <th>0</th>\n      <td>M3A</td>\n      <td>North York</td>\n      <td>Parkwoods</td>\n      <td>43.753259</td>\n      <td>-79.329656</td>\n    </tr>\n    <tr>\n      <th>1</th>\n      <td>M4A</td>\n      <td>North York</td>\n      <td>Victoria Village</td>\n      <td>43.725882</td>\n      <td>-79.315572</td>\n    </tr>\n    <tr>\n      <th>2</th>\n      <td>M5A</td>\n      <td>Downtown Toronto</td>\n      <td>Regent Park, Harbourfront</td>\n      <td>43.654260</td>\n      <td>-79.360636</td>\n    </tr>\n    <tr>\n      <th>3</th>\n      <td>M6A</td>\n      <td>North York</td>\n      <td>Lawrence Manor, Lawrence Heights</td>\n      <td>43.718518</td>\n      <td>-79.464763</td>\n    </tr>\n    <tr>\n      <th>4</th>\n      <td>M7A</td>\n      <td>Downtown Toronto</td>\n      <td>Queen's Park, Ontario Provincial Government</td>\n      <td>43.662301</td>\n      <td>-79.389494</td>\n    </tr>\n  </tbody>\n</table>\n</div>",
                        "text/plain": "  Postal Code           Borough                                 Neighborhood  \\\n0         M3A        North York                                    Parkwoods   \n1         M4A        North York                             Victoria Village   \n2         M5A  Downtown Toronto                    Regent Park, Harbourfront   \n3         M6A        North York             Lawrence Manor, Lawrence Heights   \n4         M7A  Downtown Toronto  Queen's Park, Ontario Provincial Government   \n\n    Latitude  Longitude  \n0  43.753259 -79.329656  \n1  43.725882 -79.315572  \n2  43.654260 -79.360636  \n3  43.718518 -79.464763  \n4  43.662301 -79.389494  "
                    },
                    "execution_count": 8,
                    "metadata": {},
                    "output_type": "execute_result"
                }
            ],
            "source": "# using df.merge in order to join the two dataframes\nToronto_df = df_new.merge(geospatial_df,left_on='Postal Code',right_on='PC')\nToronto_df = Toronto_df.drop(['PC'],axis=1)\nToronto_df.head()"
        },
        {
            "cell_type": "markdown",
            "metadata": {},
            "source": "## Part Number 3: Using Foresquare API to get the Venues Data"
        },
        {
            "cell_type": "markdown",
            "metadata": {},
            "source": "### We Start by First getting the lats and longs for Toronto"
        },
        {
            "cell_type": "code",
            "execution_count": 9,
            "metadata": {},
            "outputs": [
                {
                    "name": "stdout",
                    "output_type": "stream",
                    "text": "The geograpical coordinate of Toronto are 43.6534817, -79.3839347.\n"
                }
            ],
            "source": "# We get the lats/longs by using the geolocator \naddress = 'Toronto'\ngeolocator = Nominatim(user_agent=\"Toronto_explorer\")\nlocation = geolocator.geocode(address)\nlatitude = location.latitude\nlongitude = location.longitude\nprint('The geograpical coordinate of Toronto are {}, {}.'.format(latitude, longitude))"
        },
        {
            "cell_type": "markdown",
            "metadata": {},
            "source": "### Defining Foresquare Credentials\n#### First we start with Client_ID and Client Secret"
        },
        {
            "cell_type": "code",
            "execution_count": 10,
            "metadata": {},
            "outputs": [
                {
                    "name": "stdout",
                    "output_type": "stream",
                    "text": "Your credentails:\nCLIENT_ID: IJEZGLNFCM1M3ZJXK2QLKJT3KMN5FPGD4HHSZJQN440YXBSD\nCLIENT_SECRET:Q3CH4FMTJLQO4B0WLKMVHLFBVSLRHGUA5KGQNRPW1H4PFE1B\n"
                }
            ],
            "source": "CLIENT_ID = '' # your Foursquare ID\nCLIENT_SECRET = '' # your Foursquare Secret\nVERSION = '20180605' # Foursquare API version\n\nprint('Your credentails:')\nprint('CLIENT_ID: ' + CLIENT_ID)\nprint('CLIENT_SECRET:' + CLIENT_SECRET)"
        },
        {
            "cell_type": "markdown",
            "metadata": {},
            "source": "### We create a function that will explore all the neighborhoods in Toronto"
        },
        {
            "cell_type": "code",
            "execution_count": 11,
            "metadata": {
                "scrolled": true
            },
            "outputs": [
                {
                    "name": "stdout",
                    "output_type": "stream",
                    "text": "Parkwoods\nVictoria Village\nRegent Park, Harbourfront\nLawrence Manor, Lawrence Heights\nQueen's Park, Ontario Provincial Government\nIslington Avenue, Humber Valley Village\nMalvern, Rouge\nDon Mills\nParkview Hill, Woodbine Gardens\nGarden District, Ryerson\nGlencairn\nWest Deane Park, Princess Gardens, Martin Grove, Islington, Cloverdale\nRouge Hill, Port Union, Highland Creek\nDon Mills\nWoodbine Heights\nSt. James Town\nHumewood-Cedarvale\nEringate, Bloordale Gardens, Old Burnhamthorpe, Markland Wood\nGuildwood, Morningside, West Hill\nThe Beaches\nBerczy Park\nCaledonia-Fairbanks\nWoburn\nLeaside\nCentral Bay Street\nChristie\nCedarbrae\nHillcrest Village\nBathurst Manor, Wilson Heights, Downsview North\nThorncliffe Park\nRichmond, Adelaide, King\nDufferin, Dovercourt Village\nScarborough Village\nFairview, Henry Farm, Oriole\nNorthwood Park, York University\nEast Toronto, Broadview North (Old East York)\nHarbourfront East, Union Station, Toronto Islands\nLittle Portugal, Trinity\nKennedy Park, Ionview, East Birchmount Park\nBayview Village\nDownsview\nThe Danforth West, Riverdale\nToronto Dominion Centre, Design Exchange\nBrockton, Parkdale Village, Exhibition Place\nGolden Mile, Clairlea, Oakridge\nYork Mills, Silver Hills\nDownsview\nIndia Bazaar, The Beaches West\nCommerce Court, Victoria Hotel\nNorth Park, Maple Leaf Park, Upwood Park\nHumber Summit\nCliffside, Cliffcrest, Scarborough Village West\nWillowdale, Newtonbrook\nDownsview\nStudio District\nBedford Park, Lawrence Manor East\nDel Ray, Mount Dennis, Keelsdale and Silverthorn\nHumberlea, Emery\nBirch Cliff, Cliffside West\nWillowdale, Willowdale East\nDownsview\nLawrence Park\nRoselawn\nRunnymede, The Junction North\nWeston\nDorset Park, Wexford Heights, Scarborough Town Centre\nYork Mills West\nDavisville North\nForest Hill North & West, Forest Hill Road Park\nHigh Park, The Junction South\nWestmount\nWexford, Maryvale\nWillowdale, Willowdale West\nNorth Toronto West,  Lawrence Park\nThe Annex, North Midtown, Yorkville\nParkdale, Roncesvalles\nCanada Post Gateway Processing Centre\nKingsview Village, St. Phillips, Martin Grove Gardens, Richview Gardens\nAgincourt\nDavisville\nUniversity of Toronto, Harbord\nRunnymede, Swansea\nClarks Corners, Tam O'Shanter, Sullivan\nMoore Park, Summerhill East\nKensington Market, Chinatown, Grange Park\nMilliken, Agincourt North, Steeles East, L'Amoreaux East\nSummerhill West, Rathnelly, South Hill, Forest Hill SE, Deer Park\nCN Tower, King and Spadina, Railway Lands, Harbourfront West, Bathurst Quay, South Niagara, Island airport\nNew Toronto, Mimico South, Humber Bay Shores\nSouth Steeles, Silverstone, Humbergate, Jamestown, Mount Olive, Beaumond Heights, Thistletown, Albion Gardens\nSteeles West, L'Amoreaux West\nRosedale\nStn A PO Boxes\nAlderwood, Long Branch\nNorthwest, West Humber - Clairville\nUpper Rouge\nSt. James Town, Cabbagetown\nFirst Canadian Place, Underground city\nThe Kingsway, Montgomery Road, Old Mill North\nChurch and Wellesley\nBusiness reply mail Processing Centre, South Central Letter Processing Plant Toronto\nOld Mill South, King's Mill Park, Sunnylea, Humber Bay, Mimico NE, The Queensway East, Royal York South East, Kingsway Park South East\nMimico NW, The Queensway West, South of Bloor, Kingsway Park South West, Royal York South West\n"
                }
            ],
            "source": "def getNearbyVenues(names, latitudes, longitudes, radius=500, LIMIT=100):\n    \n    venues_list=[]\n    for name, lat, lng in zip(names, latitudes, longitudes):\n        print(name)\n            \n        # create the API request URL\n        url = 'https://api.foursquare.com/v2/venues/explore?&client_id={}&client_secret={}&v={}&ll={},{}&radius={}&limit={}'.format(\n            CLIENT_ID, \n            CLIENT_SECRET, \n            VERSION, \n            lat, \n            lng, \n            radius, \n            LIMIT)\n            \n        # make the GET request\n        results = requests.get(url).json()[\"response\"]['groups'][0]['items']\n        \n        # return only relevant information for each nearby venue\n        venues_list.append([(\n            name, \n            lat, \n            lng, \n            v['venue']['name'], \n            v['venue']['location']['lat'], \n            v['venue']['location']['lng'],  \n            v['venue']['categories'][0]['name']) for v in results])\n\n    nearby_venues = pd.DataFrame([item for venue_list in venues_list for item in venue_list])\n    nearby_venues.columns = ['Neighborhood', \n                  'Neighborhood Latitude', \n                  'Neighborhood Longitude', \n                  'Venue', \n                  'Venue Latitude', \n                  'Venue Longitude', \n                  'Venue Category']\n    \n    return(nearby_venues)\n\n# Applying the function to get the venuse in Toronto\nToronto_venues = getNearbyVenues(names=Toronto_df['Neighborhood'],\n                                   latitudes=Toronto_df['Latitude'],\n                                   longitudes=Toronto_df['Longitude'])"
        },
        {
            "cell_type": "code",
            "execution_count": 12,
            "metadata": {},
            "outputs": [
                {
                    "data": {
                        "text/html": "<div>\n<style scoped>\n    .dataframe tbody tr th:only-of-type {\n        vertical-align: middle;\n    }\n\n    .dataframe tbody tr th {\n        vertical-align: top;\n    }\n\n    .dataframe thead th {\n        text-align: right;\n    }\n</style>\n<table border=\"1\" class=\"dataframe\">\n  <thead>\n    <tr style=\"text-align: right;\">\n      <th></th>\n      <th>Neighborhood</th>\n      <th>Neighborhood Latitude</th>\n      <th>Neighborhood Longitude</th>\n      <th>Venue</th>\n      <th>Venue Latitude</th>\n      <th>Venue Longitude</th>\n      <th>Venue Category</th>\n    </tr>\n  </thead>\n  <tbody>\n    <tr>\n      <th>0</th>\n      <td>Parkwoods</td>\n      <td>43.753259</td>\n      <td>-79.329656</td>\n      <td>Brookbanks Park</td>\n      <td>43.751976</td>\n      <td>-79.332140</td>\n      <td>Park</td>\n    </tr>\n    <tr>\n      <th>1</th>\n      <td>Parkwoods</td>\n      <td>43.753259</td>\n      <td>-79.329656</td>\n      <td>Variety Store</td>\n      <td>43.751974</td>\n      <td>-79.333114</td>\n      <td>Food &amp; Drink Shop</td>\n    </tr>\n    <tr>\n      <th>2</th>\n      <td>Parkwoods</td>\n      <td>43.753259</td>\n      <td>-79.329656</td>\n      <td>Corrosion Service Company Limited</td>\n      <td>43.752432</td>\n      <td>-79.334661</td>\n      <td>Construction &amp; Landscaping</td>\n    </tr>\n    <tr>\n      <th>3</th>\n      <td>Victoria Village</td>\n      <td>43.725882</td>\n      <td>-79.315572</td>\n      <td>Victoria Village Arena</td>\n      <td>43.723481</td>\n      <td>-79.315635</td>\n      <td>Hockey Arena</td>\n    </tr>\n    <tr>\n      <th>4</th>\n      <td>Victoria Village</td>\n      <td>43.725882</td>\n      <td>-79.315572</td>\n      <td>Tim Hortons</td>\n      <td>43.725517</td>\n      <td>-79.313103</td>\n      <td>Coffee Shop</td>\n    </tr>\n  </tbody>\n</table>\n</div>",
                        "text/plain": "       Neighborhood  Neighborhood Latitude  Neighborhood Longitude  \\\n0         Parkwoods              43.753259              -79.329656   \n1         Parkwoods              43.753259              -79.329656   \n2         Parkwoods              43.753259              -79.329656   \n3  Victoria Village              43.725882              -79.315572   \n4  Victoria Village              43.725882              -79.315572   \n\n                               Venue  Venue Latitude  Venue Longitude  \\\n0                    Brookbanks Park       43.751976       -79.332140   \n1                      Variety Store       43.751974       -79.333114   \n2  Corrosion Service Company Limited       43.752432       -79.334661   \n3             Victoria Village Arena       43.723481       -79.315635   \n4                        Tim Hortons       43.725517       -79.313103   \n\n               Venue Category  \n0                        Park  \n1           Food & Drink Shop  \n2  Construction & Landscaping  \n3                Hockey Arena  \n4                 Coffee Shop  "
                    },
                    "execution_count": 12,
                    "metadata": {},
                    "output_type": "execute_result"
                }
            ],
            "source": "# having a look on the final output (dataframe)\nToronto_venues.head()"
        },
        {
            "cell_type": "markdown",
            "metadata": {},
            "source": "## Building the Recommender System <a name=\"recommender\"></a>"
        },
        {
            "cell_type": "markdown",
            "metadata": {},
            "source": "We start by first using one hot encoding to arrange the dataframe in a format that can be analyzed and proper for the recommender system that we are planning to build"
        },
        {
            "cell_type": "code",
            "execution_count": 45,
            "metadata": {
                "scrolled": true
            },
            "outputs": [
                {
                    "name": "stdout",
                    "output_type": "stream",
                    "text": "(2132, 278)\n"
                }
            ],
            "source": "# one hot encoding\nToronto_onehot = pd.get_dummies(Toronto_venues[['Venue Category']], prefix=\"\", prefix_sep=\"\")\n\n# add neighborhood column back to dataframe\nToronto_onehot['Neighborhood'] = Toronto_venues['Neighborhood'] \n\n# move neighborhood column to the first column\nprint(Toronto_onehot.shape)\nToronto_grouped = Toronto_onehot.groupby('Neighborhood').mean().reset_index()"
        },
        {
            "cell_type": "code",
            "execution_count": 46,
            "metadata": {},
            "outputs": [],
            "source": "# defining a function to return the most common venues\ndef return_most_common_venues(row, num_top_venues):\n    row_categories = row.iloc[1:]\n    row_categories_sorted = row_categories.sort_values(ascending=False)\n    return row_categories_sorted.index.values[0:num_top_venues]"
        },
        {
            "cell_type": "markdown",
            "metadata": {},
            "source": "We'll be taking the 1st and 2nd most common venues, taking into consideration the Pareto Distribution. To be more specific, in a distribution of 10 most common venues the 1st and 2nd will be having the 20/80 effect. Giving some sort of a profile for the neighborhood or the borough."
        },
        {
            "cell_type": "code",
            "execution_count": 47,
            "metadata": {
                "scrolled": true
            },
            "outputs": [
                {
                    "data": {
                        "text/html": "<div>\n<style scoped>\n    .dataframe tbody tr th:only-of-type {\n        vertical-align: middle;\n    }\n\n    .dataframe tbody tr th {\n        vertical-align: top;\n    }\n\n    .dataframe thead th {\n        text-align: right;\n    }\n</style>\n<table border=\"1\" class=\"dataframe\">\n  <thead>\n    <tr style=\"text-align: right;\">\n      <th></th>\n      <th>Neighborhood</th>\n      <th>1st Most Common Venue</th>\n      <th>2nd Most Common Venue</th>\n    </tr>\n  </thead>\n  <tbody>\n    <tr>\n      <th>0</th>\n      <td>Agincourt</td>\n      <td>Lounge</td>\n      <td>Breakfast Spot</td>\n    </tr>\n    <tr>\n      <th>1</th>\n      <td>Alderwood, Long Branch</td>\n      <td>Pizza Place</td>\n      <td>Pharmacy</td>\n    </tr>\n    <tr>\n      <th>2</th>\n      <td>Bathurst Manor, Wilson Heights, Downsview North</td>\n      <td>Coffee Shop</td>\n      <td>Bank</td>\n    </tr>\n    <tr>\n      <th>3</th>\n      <td>Bayview Village</td>\n      <td>Caf\u00e9</td>\n      <td>Bank</td>\n    </tr>\n    <tr>\n      <th>4</th>\n      <td>Bedford Park, Lawrence Manor East</td>\n      <td>Sandwich Place</td>\n      <td>Italian Restaurant</td>\n    </tr>\n    <tr>\n      <th>5</th>\n      <td>Berczy Park</td>\n      <td>Coffee Shop</td>\n      <td>Cocktail Bar</td>\n    </tr>\n    <tr>\n      <th>6</th>\n      <td>Birch Cliff, Cliffside West</td>\n      <td>General Entertainment</td>\n      <td>College Stadium</td>\n    </tr>\n    <tr>\n      <th>7</th>\n      <td>Brockton, Parkdale Village, Exhibition Place</td>\n      <td>Caf\u00e9</td>\n      <td>Bakery</td>\n    </tr>\n    <tr>\n      <th>8</th>\n      <td>Business reply mail Processing Centre, South C...</td>\n      <td>Light Rail Station</td>\n      <td>Park</td>\n    </tr>\n    <tr>\n      <th>9</th>\n      <td>CN Tower, King and Spadina, Railway Lands, Har...</td>\n      <td>Airport Lounge</td>\n      <td>Airport Service</td>\n    </tr>\n    <tr>\n      <th>10</th>\n      <td>Caledonia-Fairbanks</td>\n      <td>Park</td>\n      <td>Women's Store</td>\n    </tr>\n    <tr>\n      <th>11</th>\n      <td>Canada Post Gateway Processing Centre</td>\n      <td>Hotel</td>\n      <td>Coffee Shop</td>\n    </tr>\n    <tr>\n      <th>12</th>\n      <td>Cedarbrae</td>\n      <td>Bakery</td>\n      <td>Bank</td>\n    </tr>\n    <tr>\n      <th>13</th>\n      <td>Central Bay Street</td>\n      <td>Coffee Shop</td>\n      <td>Italian Restaurant</td>\n    </tr>\n    <tr>\n      <th>14</th>\n      <td>Christie</td>\n      <td>Grocery Store</td>\n      <td>Caf\u00e9</td>\n    </tr>\n    <tr>\n      <th>15</th>\n      <td>Church and Wellesley</td>\n      <td>Coffee Shop</td>\n      <td>Sushi Restaurant</td>\n    </tr>\n    <tr>\n      <th>16</th>\n      <td>Clarks Corners, Tam O'Shanter, Sullivan</td>\n      <td>Pizza Place</td>\n      <td>Pharmacy</td>\n    </tr>\n    <tr>\n      <th>17</th>\n      <td>Cliffside, Cliffcrest, Scarborough Village West</td>\n      <td>American Restaurant</td>\n      <td>Motel</td>\n    </tr>\n    <tr>\n      <th>18</th>\n      <td>Commerce Court, Victoria Hotel</td>\n      <td>Coffee Shop</td>\n      <td>Restaurant</td>\n    </tr>\n    <tr>\n      <th>19</th>\n      <td>Davisville</td>\n      <td>Dessert Shop</td>\n      <td>Sandwich Place</td>\n    </tr>\n    <tr>\n      <th>20</th>\n      <td>Davisville North</td>\n      <td>Gym / Fitness Center</td>\n      <td>Breakfast Spot</td>\n    </tr>\n    <tr>\n      <th>21</th>\n      <td>Del Ray, Mount Dennis, Keelsdale and Silverthorn</td>\n      <td>Sandwich Place</td>\n      <td>Discount Store</td>\n    </tr>\n    <tr>\n      <th>22</th>\n      <td>Don Mills</td>\n      <td>Gym</td>\n      <td>Beer Store</td>\n    </tr>\n    <tr>\n      <th>23</th>\n      <td>Dorset Park, Wexford Heights, Scarborough Town...</td>\n      <td>Indian Restaurant</td>\n      <td>Chinese Restaurant</td>\n    </tr>\n    <tr>\n      <th>24</th>\n      <td>Downsview</td>\n      <td>Grocery Store</td>\n      <td>Park</td>\n    </tr>\n    <tr>\n      <th>25</th>\n      <td>Dufferin, Dovercourt Village</td>\n      <td>Bakery</td>\n      <td>Pharmacy</td>\n    </tr>\n    <tr>\n      <th>26</th>\n      <td>East Toronto, Broadview North (Old East York)</td>\n      <td>Convenience Store</td>\n      <td>Metro Station</td>\n    </tr>\n    <tr>\n      <th>27</th>\n      <td>Eringate, Bloordale Gardens, Old Burnhamthorpe...</td>\n      <td>Pharmacy</td>\n      <td>Coffee Shop</td>\n    </tr>\n    <tr>\n      <th>28</th>\n      <td>Fairview, Henry Farm, Oriole</td>\n      <td>Clothing Store</td>\n      <td>Coffee Shop</td>\n    </tr>\n    <tr>\n      <th>29</th>\n      <td>First Canadian Place, Underground city</td>\n      <td>Coffee Shop</td>\n      <td>Caf\u00e9</td>\n    </tr>\n    <tr>\n      <th>30</th>\n      <td>Forest Hill North &amp; West, Forest Hill Road Park</td>\n      <td>Jewelry Store</td>\n      <td>Trail</td>\n    </tr>\n    <tr>\n      <th>31</th>\n      <td>Garden District, Ryerson</td>\n      <td>Clothing Store</td>\n      <td>Coffee Shop</td>\n    </tr>\n    <tr>\n      <th>32</th>\n      <td>Glencairn</td>\n      <td>Pizza Place</td>\n      <td>Park</td>\n    </tr>\n    <tr>\n      <th>33</th>\n      <td>Golden Mile, Clairlea, Oakridge</td>\n      <td>Bus Line</td>\n      <td>Bakery</td>\n    </tr>\n    <tr>\n      <th>34</th>\n      <td>Guildwood, Morningside, West Hill</td>\n      <td>Electronics Store</td>\n      <td>Mexican Restaurant</td>\n    </tr>\n    <tr>\n      <th>35</th>\n      <td>Harbourfront East, Union Station, Toronto Islands</td>\n      <td>Coffee Shop</td>\n      <td>Aquarium</td>\n    </tr>\n    <tr>\n      <th>36</th>\n      <td>High Park, The Junction South</td>\n      <td>Caf\u00e9</td>\n      <td>Mexican Restaurant</td>\n    </tr>\n    <tr>\n      <th>37</th>\n      <td>Hillcrest Village</td>\n      <td>Pool</td>\n      <td>Golf Course</td>\n    </tr>\n    <tr>\n      <th>38</th>\n      <td>Humber Summit</td>\n      <td>Furniture / Home Store</td>\n      <td>Yoga Studio</td>\n    </tr>\n    <tr>\n      <th>39</th>\n      <td>Humberlea, Emery</td>\n      <td>Baseball Field</td>\n      <td>Yoga Studio</td>\n    </tr>\n    <tr>\n      <th>40</th>\n      <td>Humewood-Cedarvale</td>\n      <td>Trail</td>\n      <td>Dog Run</td>\n    </tr>\n    <tr>\n      <th>41</th>\n      <td>India Bazaar, The Beaches West</td>\n      <td>Park</td>\n      <td>Fast Food Restaurant</td>\n    </tr>\n    <tr>\n      <th>42</th>\n      <td>Kennedy Park, Ionview, East Birchmount Park</td>\n      <td>Convenience Store</td>\n      <td>Bus Station</td>\n    </tr>\n    <tr>\n      <th>43</th>\n      <td>Kensington Market, Chinatown, Grange Park</td>\n      <td>Caf\u00e9</td>\n      <td>Coffee Shop</td>\n    </tr>\n    <tr>\n      <th>44</th>\n      <td>Kingsview Village, St. Phillips, Martin Grove ...</td>\n      <td>Pizza Place</td>\n      <td>Sandwich Place</td>\n    </tr>\n    <tr>\n      <th>45</th>\n      <td>Lawrence Manor, Lawrence Heights</td>\n      <td>Clothing Store</td>\n      <td>Accessories Store</td>\n    </tr>\n    <tr>\n      <th>46</th>\n      <td>Lawrence Park</td>\n      <td>Bus Line</td>\n      <td>Park</td>\n    </tr>\n    <tr>\n      <th>47</th>\n      <td>Leaside</td>\n      <td>Coffee Shop</td>\n      <td>Bank</td>\n    </tr>\n    <tr>\n      <th>48</th>\n      <td>Little Portugal, Trinity</td>\n      <td>Bar</td>\n      <td>Asian Restaurant</td>\n    </tr>\n    <tr>\n      <th>49</th>\n      <td>Malvern, Rouge</td>\n      <td>Fast Food Restaurant</td>\n      <td>Print Shop</td>\n    </tr>\n    <tr>\n      <th>50</th>\n      <td>Milliken, Agincourt North, Steeles East, L'Amo...</td>\n      <td>Playground</td>\n      <td>Sculpture Garden</td>\n    </tr>\n    <tr>\n      <th>51</th>\n      <td>Mimico NW, The Queensway West, South of Bloor,...</td>\n      <td>Gym</td>\n      <td>Thrift / Vintage Store</td>\n    </tr>\n    <tr>\n      <th>52</th>\n      <td>Moore Park, Summerhill East</td>\n      <td>Summer Camp</td>\n      <td>Tennis Court</td>\n    </tr>\n    <tr>\n      <th>53</th>\n      <td>New Toronto, Mimico South, Humber Bay Shores</td>\n      <td>Pizza Place</td>\n      <td>Bakery</td>\n    </tr>\n    <tr>\n      <th>54</th>\n      <td>North Park, Maple Leaf Park, Upwood Park</td>\n      <td>Trail</td>\n      <td>Bakery</td>\n    </tr>\n    <tr>\n      <th>55</th>\n      <td>North Toronto West,  Lawrence Park</td>\n      <td>Clothing Store</td>\n      <td>Coffee Shop</td>\n    </tr>\n    <tr>\n      <th>56</th>\n      <td>Northwest, West Humber - Clairville</td>\n      <td>Drugstore</td>\n      <td>Rental Car Location</td>\n    </tr>\n    <tr>\n      <th>57</th>\n      <td>Northwood Park, York University</td>\n      <td>Furniture / Home Store</td>\n      <td>Coffee Shop</td>\n    </tr>\n    <tr>\n      <th>58</th>\n      <td>Old Mill South, King's Mill Park, Sunnylea, Hu...</td>\n      <td>Pool</td>\n      <td>Baseball Field</td>\n    </tr>\n    <tr>\n      <th>59</th>\n      <td>Parkdale, Roncesvalles</td>\n      <td>Breakfast Spot</td>\n      <td>Gift Shop</td>\n    </tr>\n    <tr>\n      <th>60</th>\n      <td>Parkview Hill, Woodbine Gardens</td>\n      <td>Pizza Place</td>\n      <td>Gym / Fitness Center</td>\n    </tr>\n    <tr>\n      <th>61</th>\n      <td>Parkwoods</td>\n      <td>Park</td>\n      <td>Construction &amp; Landscaping</td>\n    </tr>\n    <tr>\n      <th>62</th>\n      <td>Queen's Park, Ontario Provincial Government</td>\n      <td>Coffee Shop</td>\n      <td>Sushi Restaurant</td>\n    </tr>\n    <tr>\n      <th>63</th>\n      <td>Regent Park, Harbourfront</td>\n      <td>Coffee Shop</td>\n      <td>Park</td>\n    </tr>\n    <tr>\n      <th>64</th>\n      <td>Richmond, Adelaide, King</td>\n      <td>Coffee Shop</td>\n      <td>Caf\u00e9</td>\n    </tr>\n    <tr>\n      <th>65</th>\n      <td>Rosedale</td>\n      <td>Park</td>\n      <td>Playground</td>\n    </tr>\n    <tr>\n      <th>66</th>\n      <td>Roselawn</td>\n      <td>Ice Cream Shop</td>\n      <td>Garden</td>\n    </tr>\n    <tr>\n      <th>67</th>\n      <td>Rouge Hill, Port Union, Highland Creek</td>\n      <td>Home Service</td>\n      <td>Bar</td>\n    </tr>\n    <tr>\n      <th>68</th>\n      <td>Runnymede, Swansea</td>\n      <td>Coffee Shop</td>\n      <td>Caf\u00e9</td>\n    </tr>\n    <tr>\n      <th>69</th>\n      <td>Runnymede, The Junction North</td>\n      <td>Pizza Place</td>\n      <td>Bus Line</td>\n    </tr>\n    <tr>\n      <th>70</th>\n      <td>Scarborough Village</td>\n      <td>Playground</td>\n      <td>Jewelry Store</td>\n    </tr>\n    <tr>\n      <th>71</th>\n      <td>South Steeles, Silverstone, Humbergate, Jamest...</td>\n      <td>Grocery Store</td>\n      <td>Fried Chicken Joint</td>\n    </tr>\n    <tr>\n      <th>72</th>\n      <td>St. James Town</td>\n      <td>Caf\u00e9</td>\n      <td>Coffee Shop</td>\n    </tr>\n    <tr>\n      <th>73</th>\n      <td>St. James Town, Cabbagetown</td>\n      <td>Coffee Shop</td>\n      <td>Pizza Place</td>\n    </tr>\n    <tr>\n      <th>74</th>\n      <td>Steeles West, L'Amoreaux West</td>\n      <td>Chinese Restaurant</td>\n      <td>Pharmacy</td>\n    </tr>\n    <tr>\n      <th>75</th>\n      <td>Stn A PO Boxes</td>\n      <td>Coffee Shop</td>\n      <td>Caf\u00e9</td>\n    </tr>\n    <tr>\n      <th>76</th>\n      <td>Studio District</td>\n      <td>Caf\u00e9</td>\n      <td>Coffee Shop</td>\n    </tr>\n    <tr>\n      <th>77</th>\n      <td>Summerhill West, Rathnelly, South Hill, Forest...</td>\n      <td>Coffee Shop</td>\n      <td>Pub</td>\n    </tr>\n    <tr>\n      <th>78</th>\n      <td>The Annex, North Midtown, Yorkville</td>\n      <td>Sandwich Place</td>\n      <td>Caf\u00e9</td>\n    </tr>\n    <tr>\n      <th>79</th>\n      <td>The Beaches</td>\n      <td>Trail</td>\n      <td>Health Food Store</td>\n    </tr>\n    <tr>\n      <th>80</th>\n      <td>The Danforth West, Riverdale</td>\n      <td>Greek Restaurant</td>\n      <td>Italian Restaurant</td>\n    </tr>\n    <tr>\n      <th>81</th>\n      <td>The Kingsway, Montgomery Road, Old Mill North</td>\n      <td>River</td>\n      <td>Smoke Shop</td>\n    </tr>\n    <tr>\n      <th>82</th>\n      <td>Thorncliffe Park</td>\n      <td>Sandwich Place</td>\n      <td>Indian Restaurant</td>\n    </tr>\n    <tr>\n      <th>83</th>\n      <td>Toronto Dominion Centre, Design Exchange</td>\n      <td>Coffee Shop</td>\n      <td>Hotel</td>\n    </tr>\n    <tr>\n      <th>84</th>\n      <td>University of Toronto, Harbord</td>\n      <td>Caf\u00e9</td>\n      <td>Bakery</td>\n    </tr>\n    <tr>\n      <th>85</th>\n      <td>Victoria Village</td>\n      <td>Intersection</td>\n      <td>Pizza Place</td>\n    </tr>\n    <tr>\n      <th>86</th>\n      <td>Westmount</td>\n      <td>Pizza Place</td>\n      <td>Discount Store</td>\n    </tr>\n    <tr>\n      <th>87</th>\n      <td>Weston</td>\n      <td>Convenience Store</td>\n      <td>Park</td>\n    </tr>\n    <tr>\n      <th>88</th>\n      <td>Wexford, Maryvale</td>\n      <td>Shopping Mall</td>\n      <td>Auto Garage</td>\n    </tr>\n    <tr>\n      <th>89</th>\n      <td>Willowdale, Newtonbrook</td>\n      <td>Park</td>\n      <td>Yoga Studio</td>\n    </tr>\n    <tr>\n      <th>90</th>\n      <td>Willowdale, Willowdale East</td>\n      <td>Ramen Restaurant</td>\n      <td>Caf\u00e9</td>\n    </tr>\n    <tr>\n      <th>91</th>\n      <td>Willowdale, Willowdale West</td>\n      <td>Pharmacy</td>\n      <td>Grocery Store</td>\n    </tr>\n    <tr>\n      <th>92</th>\n      <td>Woburn</td>\n      <td>Coffee Shop</td>\n      <td>Korean Restaurant</td>\n    </tr>\n    <tr>\n      <th>93</th>\n      <td>Woodbine Heights</td>\n      <td>Skating Rink</td>\n      <td>Spa</td>\n    </tr>\n    <tr>\n      <th>94</th>\n      <td>York Mills West</td>\n      <td>Park</td>\n      <td>Convenience Store</td>\n    </tr>\n    <tr>\n      <th>95</th>\n      <td>York Mills, Silver Hills</td>\n      <td>Cafeteria</td>\n      <td>Dog Run</td>\n    </tr>\n  </tbody>\n</table>\n</div>",
                        "text/plain": "                                         Neighborhood   1st Most Common Venue  \\\n0                                           Agincourt                  Lounge   \n1                              Alderwood, Long Branch             Pizza Place   \n2     Bathurst Manor, Wilson Heights, Downsview North             Coffee Shop   \n3                                     Bayview Village                    Caf\u00e9   \n4                   Bedford Park, Lawrence Manor East          Sandwich Place   \n5                                         Berczy Park             Coffee Shop   \n6                         Birch Cliff, Cliffside West   General Entertainment   \n7        Brockton, Parkdale Village, Exhibition Place                    Caf\u00e9   \n8   Business reply mail Processing Centre, South C...      Light Rail Station   \n9   CN Tower, King and Spadina, Railway Lands, Har...          Airport Lounge   \n10                                Caledonia-Fairbanks                    Park   \n11              Canada Post Gateway Processing Centre                   Hotel   \n12                                          Cedarbrae                  Bakery   \n13                                 Central Bay Street             Coffee Shop   \n14                                           Christie           Grocery Store   \n15                               Church and Wellesley             Coffee Shop   \n16            Clarks Corners, Tam O'Shanter, Sullivan             Pizza Place   \n17    Cliffside, Cliffcrest, Scarborough Village West     American Restaurant   \n18                     Commerce Court, Victoria Hotel             Coffee Shop   \n19                                         Davisville            Dessert Shop   \n20                                   Davisville North    Gym / Fitness Center   \n21   Del Ray, Mount Dennis, Keelsdale and Silverthorn          Sandwich Place   \n22                                          Don Mills                     Gym   \n23  Dorset Park, Wexford Heights, Scarborough Town...       Indian Restaurant   \n24                                          Downsview           Grocery Store   \n25                       Dufferin, Dovercourt Village                  Bakery   \n26      East Toronto, Broadview North (Old East York)       Convenience Store   \n27  Eringate, Bloordale Gardens, Old Burnhamthorpe...                Pharmacy   \n28                       Fairview, Henry Farm, Oriole          Clothing Store   \n29             First Canadian Place, Underground city             Coffee Shop   \n30    Forest Hill North & West, Forest Hill Road Park           Jewelry Store   \n31                           Garden District, Ryerson          Clothing Store   \n32                                          Glencairn             Pizza Place   \n33                    Golden Mile, Clairlea, Oakridge                Bus Line   \n34                  Guildwood, Morningside, West Hill       Electronics Store   \n35  Harbourfront East, Union Station, Toronto Islands             Coffee Shop   \n36                      High Park, The Junction South                    Caf\u00e9   \n37                                  Hillcrest Village                    Pool   \n38                                      Humber Summit  Furniture / Home Store   \n39                                   Humberlea, Emery          Baseball Field   \n40                                 Humewood-Cedarvale                   Trail   \n41                     India Bazaar, The Beaches West                    Park   \n42        Kennedy Park, Ionview, East Birchmount Park       Convenience Store   \n43          Kensington Market, Chinatown, Grange Park                    Caf\u00e9   \n44  Kingsview Village, St. Phillips, Martin Grove ...             Pizza Place   \n45                   Lawrence Manor, Lawrence Heights          Clothing Store   \n46                                      Lawrence Park                Bus Line   \n47                                            Leaside             Coffee Shop   \n48                           Little Portugal, Trinity                     Bar   \n49                                     Malvern, Rouge    Fast Food Restaurant   \n50  Milliken, Agincourt North, Steeles East, L'Amo...              Playground   \n51  Mimico NW, The Queensway West, South of Bloor,...                     Gym   \n52                        Moore Park, Summerhill East             Summer Camp   \n53       New Toronto, Mimico South, Humber Bay Shores             Pizza Place   \n54           North Park, Maple Leaf Park, Upwood Park                   Trail   \n55                 North Toronto West,  Lawrence Park          Clothing Store   \n56                Northwest, West Humber - Clairville               Drugstore   \n57                    Northwood Park, York University  Furniture / Home Store   \n58  Old Mill South, King's Mill Park, Sunnylea, Hu...                    Pool   \n59                             Parkdale, Roncesvalles          Breakfast Spot   \n60                    Parkview Hill, Woodbine Gardens             Pizza Place   \n61                                          Parkwoods                    Park   \n62        Queen's Park, Ontario Provincial Government             Coffee Shop   \n63                          Regent Park, Harbourfront             Coffee Shop   \n64                           Richmond, Adelaide, King             Coffee Shop   \n65                                           Rosedale                    Park   \n66                                           Roselawn          Ice Cream Shop   \n67             Rouge Hill, Port Union, Highland Creek            Home Service   \n68                                 Runnymede, Swansea             Coffee Shop   \n69                      Runnymede, The Junction North             Pizza Place   \n70                                Scarborough Village              Playground   \n71  South Steeles, Silverstone, Humbergate, Jamest...           Grocery Store   \n72                                     St. James Town                    Caf\u00e9   \n73                        St. James Town, Cabbagetown             Coffee Shop   \n74                      Steeles West, L'Amoreaux West      Chinese Restaurant   \n75                                     Stn A PO Boxes             Coffee Shop   \n76                                    Studio District                    Caf\u00e9   \n77  Summerhill West, Rathnelly, South Hill, Forest...             Coffee Shop   \n78                The Annex, North Midtown, Yorkville          Sandwich Place   \n79                                        The Beaches                   Trail   \n80                       The Danforth West, Riverdale        Greek Restaurant   \n81      The Kingsway, Montgomery Road, Old Mill North                   River   \n82                                   Thorncliffe Park          Sandwich Place   \n83           Toronto Dominion Centre, Design Exchange             Coffee Shop   \n84                     University of Toronto, Harbord                    Caf\u00e9   \n85                                   Victoria Village            Intersection   \n86                                          Westmount             Pizza Place   \n87                                             Weston       Convenience Store   \n88                                  Wexford, Maryvale           Shopping Mall   \n89                            Willowdale, Newtonbrook                    Park   \n90                        Willowdale, Willowdale East        Ramen Restaurant   \n91                        Willowdale, Willowdale West                Pharmacy   \n92                                             Woburn             Coffee Shop   \n93                                   Woodbine Heights            Skating Rink   \n94                                    York Mills West                    Park   \n95                           York Mills, Silver Hills               Cafeteria   \n\n         2nd Most Common Venue  \n0               Breakfast Spot  \n1                     Pharmacy  \n2                         Bank  \n3                         Bank  \n4           Italian Restaurant  \n5                 Cocktail Bar  \n6              College Stadium  \n7                       Bakery  \n8                         Park  \n9              Airport Service  \n10               Women's Store  \n11                 Coffee Shop  \n12                        Bank  \n13          Italian Restaurant  \n14                        Caf\u00e9  \n15            Sushi Restaurant  \n16                    Pharmacy  \n17                       Motel  \n18                  Restaurant  \n19              Sandwich Place  \n20              Breakfast Spot  \n21              Discount Store  \n22                  Beer Store  \n23          Chinese Restaurant  \n24                        Park  \n25                    Pharmacy  \n26               Metro Station  \n27                 Coffee Shop  \n28                 Coffee Shop  \n29                        Caf\u00e9  \n30                       Trail  \n31                 Coffee Shop  \n32                        Park  \n33                      Bakery  \n34          Mexican Restaurant  \n35                    Aquarium  \n36          Mexican Restaurant  \n37                 Golf Course  \n38                 Yoga Studio  \n39                 Yoga Studio  \n40                     Dog Run  \n41        Fast Food Restaurant  \n42                 Bus Station  \n43                 Coffee Shop  \n44              Sandwich Place  \n45           Accessories Store  \n46                        Park  \n47                        Bank  \n48            Asian Restaurant  \n49                  Print Shop  \n50            Sculpture Garden  \n51      Thrift / Vintage Store  \n52                Tennis Court  \n53                      Bakery  \n54                      Bakery  \n55                 Coffee Shop  \n56         Rental Car Location  \n57                 Coffee Shop  \n58              Baseball Field  \n59                   Gift Shop  \n60        Gym / Fitness Center  \n61  Construction & Landscaping  \n62            Sushi Restaurant  \n63                        Park  \n64                        Caf\u00e9  \n65                  Playground  \n66                      Garden  \n67                         Bar  \n68                        Caf\u00e9  \n69                    Bus Line  \n70               Jewelry Store  \n71         Fried Chicken Joint  \n72                 Coffee Shop  \n73                 Pizza Place  \n74                    Pharmacy  \n75                        Caf\u00e9  \n76                 Coffee Shop  \n77                         Pub  \n78                        Caf\u00e9  \n79           Health Food Store  \n80          Italian Restaurant  \n81                  Smoke Shop  \n82           Indian Restaurant  \n83                       Hotel  \n84                      Bakery  \n85                 Pizza Place  \n86              Discount Store  \n87                        Park  \n88                 Auto Garage  \n89                 Yoga Studio  \n90                        Caf\u00e9  \n91               Grocery Store  \n92           Korean Restaurant  \n93                         Spa  \n94           Convenience Store  \n95                     Dog Run  "
                    },
                    "execution_count": 47,
                    "metadata": {},
                    "output_type": "execute_result"
                }
            ],
            "source": "num_top_venues = 2\nindicators = ['st', 'nd']\n\n# create columns according to number of top venues - 2 Columns\ncolumns = ['Neighborhood']\nfor ind in np.arange(num_top_venues):\n        columns.append('{}{} Most Common Venue'.format(ind+1, indicators[ind]))\n\n# create a new dataframe\nneighborhoods_venues_sorted = pd.DataFrame(columns=columns)\nneighborhoods_venues_sorted['Neighborhood'] = Toronto_grouped['Neighborhood']\n\nfor ind in np.arange(Toronto_grouped.shape[0]):\n    neighborhoods_venues_sorted.iloc[ind, 1:] = return_most_common_venues(Toronto_grouped.iloc[ind, :], num_top_venues)\n\nneighborhoods_venues_sorted"
        },
        {
            "cell_type": "markdown",
            "metadata": {},
            "source": "Here, we use k-means clustering to reduce the data into buckets of similar nature, which will make it easier for us to recommend based on, moreover it will make it easier for us to apply a recommender system algorithm on the data when it is in this format."
        },
        {
            "cell_type": "code",
            "execution_count": 48,
            "metadata": {
                "scrolled": false
            },
            "outputs": [
                {
                    "data": {
                        "text/plain": "array([5, 0, 5, 0, 5, 5, 0, 5, 5, 5], dtype=int32)"
                    },
                    "execution_count": 48,
                    "metadata": {},
                    "output_type": "execute_result"
                }
            ],
            "source": "# set number of clusters\nkclusters = 6\n\nToronto_grouped_clustering = Toronto_grouped.drop('Neighborhood', 1)\n\n# run k-means clustering\nkmeans = KMeans(n_clusters=kclusters, random_state=3).fit(Toronto_grouped_clustering)\n\n# check cluster labels generated for each row in the dataframe\nkmeans.labels_[0:10] "
        },
        {
            "cell_type": "markdown",
            "metadata": {},
            "source": "We merge the resultant dataframe from the clustering exercise with the original one, in order to assign the cluters' lables to the nighborhoods names and their respective boroughs"
        },
        {
            "cell_type": "code",
            "execution_count": 49,
            "metadata": {
                "scrolled": true
            },
            "outputs": [
                {
                    "data": {
                        "text/html": "<div>\n<style scoped>\n    .dataframe tbody tr th:only-of-type {\n        vertical-align: middle;\n    }\n\n    .dataframe tbody tr th {\n        vertical-align: top;\n    }\n\n    .dataframe thead th {\n        text-align: right;\n    }\n</style>\n<table border=\"1\" class=\"dataframe\">\n  <thead>\n    <tr style=\"text-align: right;\">\n      <th></th>\n      <th>Postal Code</th>\n      <th>Borough</th>\n      <th>Neighborhood</th>\n      <th>Latitude</th>\n      <th>Longitude</th>\n      <th>Cluster Labels</th>\n      <th>1st Most Common Venue</th>\n      <th>2nd Most Common Venue</th>\n    </tr>\n  </thead>\n  <tbody>\n    <tr>\n      <th>0</th>\n      <td>M3A</td>\n      <td>North York</td>\n      <td>Parkwoods</td>\n      <td>43.753259</td>\n      <td>-79.329656</td>\n      <td>2.0</td>\n      <td>Park</td>\n      <td>Construction &amp; Landscaping</td>\n    </tr>\n    <tr>\n      <th>1</th>\n      <td>M4A</td>\n      <td>North York</td>\n      <td>Victoria Village</td>\n      <td>43.725882</td>\n      <td>-79.315572</td>\n      <td>6.0</td>\n      <td>Intersection</td>\n      <td>Pizza Place</td>\n    </tr>\n    <tr>\n      <th>2</th>\n      <td>M5A</td>\n      <td>Downtown Toronto</td>\n      <td>Regent Park, Harbourfront</td>\n      <td>43.654260</td>\n      <td>-79.360636</td>\n      <td>6.0</td>\n      <td>Coffee Shop</td>\n      <td>Park</td>\n    </tr>\n    <tr>\n      <th>3</th>\n      <td>M6A</td>\n      <td>North York</td>\n      <td>Lawrence Manor, Lawrence Heights</td>\n      <td>43.718518</td>\n      <td>-79.464763</td>\n      <td>6.0</td>\n      <td>Clothing Store</td>\n      <td>Accessories Store</td>\n    </tr>\n    <tr>\n      <th>4</th>\n      <td>M7A</td>\n      <td>Downtown Toronto</td>\n      <td>Queen's Park, Ontario Provincial Government</td>\n      <td>43.662301</td>\n      <td>-79.389494</td>\n      <td>6.0</td>\n      <td>Coffee Shop</td>\n      <td>Sushi Restaurant</td>\n    </tr>\n  </tbody>\n</table>\n</div>",
                        "text/plain": "  Postal Code           Borough                                 Neighborhood  \\\n0         M3A        North York                                    Parkwoods   \n1         M4A        North York                             Victoria Village   \n2         M5A  Downtown Toronto                    Regent Park, Harbourfront   \n3         M6A        North York             Lawrence Manor, Lawrence Heights   \n4         M7A  Downtown Toronto  Queen's Park, Ontario Provincial Government   \n\n    Latitude  Longitude  Cluster Labels 1st Most Common Venue  \\\n0  43.753259 -79.329656             2.0                  Park   \n1  43.725882 -79.315572             6.0          Intersection   \n2  43.654260 -79.360636             6.0           Coffee Shop   \n3  43.718518 -79.464763             6.0        Clothing Store   \n4  43.662301 -79.389494             6.0           Coffee Shop   \n\n        2nd Most Common Venue  \n0  Construction & Landscaping  \n1                 Pizza Place  \n2                        Park  \n3           Accessories Store  \n4            Sushi Restaurant  "
                    },
                    "execution_count": 49,
                    "metadata": {},
                    "output_type": "execute_result"
                }
            ],
            "source": "# add clustering labels\nneighborhoods_venues_sorted.insert(0, 'Cluster Labels', kmeans.labels_+1)\n\nToronto_merged = Toronto_df\n\n# merge toronto_grouped with toronto_data to add latitude/longitude for each neighborhood\nToronto_merged = Toronto_merged.join(neighborhoods_venues_sorted.set_index('Neighborhood'), on='Neighborhood')\nToronto_merged = Toronto_merged.dropna()\nToronto_merged.head()"
        },
        {
            "cell_type": "markdown",
            "metadata": {},
            "source": "We then get the output of the recommender system, showing each cluster with the different venues in each one"
        },
        {
            "cell_type": "code",
            "execution_count": 52,
            "metadata": {
                "scrolled": true
            },
            "outputs": [
                {
                    "name": "stdout",
                    "output_type": "stream",
                    "text": "Cluster # 1 has the following Venue Categories ['Pizza Place', 'Sandwich Place', 'Pharmacy', 'Caf\u00e9', 'Gym / Fitness Center']\nCluster # 2 has the following Venue Categories ['Park', 'Convenience Store', 'Playground', 'Bus Line', 'Construction & Landscaping']\nCluster # 3 has the following Venue Categories ['Baseball Field', 'Yoga Studio']\nCluster # 4 has the following Venue Categories ['Bakery', 'Trail', 'American Restaurant', 'Bus Line', 'Garden']\nCluster # 5 has the following Venue Categories ['Cafeteria', 'Dog Run']\nCluster # 6 has the following Venue Categories ['Coffee Shop', 'Caf\u00e9', 'Park', 'Bakery', 'Grocery Store']\n"
                }
            ],
            "source": "# loop each cluster and get most common venue in each one based on their rank\nfor i in list(range(kclusters)):\n    Cluster = Toronto_merged.loc[Toronto_merged['Cluster Labels'] == i+1, Toronto_merged.columns[[1] + list(range(5, Toronto_merged.shape[1]))]]\n    frame = [Cluster['1st Most Common Venue'].value_counts(),Cluster['2nd Most Common Venue'].value_counts()]\n    result = pd.concat(frame)\n    result = result.to_frame()\n    result = result.reset_index()\n    result = result.rename(columns={'index':'Venue Category',0:'Rank'})\n    result = result.groupby('Venue Category').sum().reset_index().sort_values(by='Rank',ascending=False).head()\n    print('Cluster #',i+1,'has the following Venue Categories',result['Venue Category'].values.tolist())"
        },
        {
            "cell_type": "markdown",
            "metadata": {},
            "source": "In order to get each cluster with its respective **Neighborhoods** and **Boroughs** just change the i (based on the cluster you would like to see) in the following code see the data relevant to each cluster"
        },
        {
            "cell_type": "code",
            "execution_count": 58,
            "metadata": {},
            "outputs": [],
            "source": "i = 1\nC = Toronto_merged.loc[Toronto_merged['Cluster Labels'] == i, Toronto_merged.columns[[1,2] + list(range(5, Toronto_merged.shape[1]))]]"
        },
        {
            "cell_type": "markdown",
            "metadata": {},
            "source": "## Results and Discussion <a name=\"discussion\"></a>"
        },
        {
            "cell_type": "markdown",
            "metadata": {},
            "source": "In reference to the presented output of the recommender system, we can see a mild variation between **Cluster # 1**, **Cluster # 4**, **Cluster # 6** and **Cluster 5** as they are, by and large, similar in nature (i.e. the most common venues in each is either a Cafe', a Restaurant or simply put a venue that has to do with leisure or entertainment). \n\nAs to **Cluster 2** & **Cluster 2**, however, it appears to be very different from other clusters. More interestingly, even at the level of the items within the cluster it appears that there is some sort of variation that will probably need further investigation, e.g. looking more closely at the nature of the neighborhoods and trying to understand what they are like in reality, one assumption to answer this and yet to be validated, is that the neihborhoods in this cluster are new and are not really well defined yet. Moreover, one can look at the variation when adding more most common venues (i.e. 3rd, 4th, 5th, etc...), which will ultimately help to see whether the variation continues, or we actually start to see more harmony as we add more venue categories.\n\nUltimately, the decision as to where a person can open a certain shop or a restaurant is left to the reader, given that the logical backing of where to choose is dependent on the incumbent of the decision. Put differently, there is the opinion of opening a restaurant for example in a neighborhood known to have restaurants as its most common venue category, with the logical backing that more people will be visiting that venue for its restaurants and that would most probably increase the chance of the newly opened restaurant gaining attraction. The flip side to that coin is, an area with less restaurants will be more likely profitable for the business since little to no one will be competing. \n\nAnd while both arguments are correct in certain different conditions, the specifics behind making such decisions are studied differently rather than assumed, e.g. studying the markets for each cluster from a supply/demand matching perspective. This is however, out of the scope of what this recommender system tries to achieve."
        },
        {
            "cell_type": "markdown",
            "metadata": {},
            "source": "## Conclusion and Future Direction  <a name=\"conclusion\"></a>"
        },
        {
            "cell_type": "markdown",
            "metadata": {},
            "source": "The purpose of this report is to present a recommender system through which it clusters neighborhoods/boroughs in the city of Toronto, and outputting the most common venues that characterize the cluster. By firstly, looking up the nieghborhoods/boroughs in the city of Toronto. Secondly, getting the lats/longs for these nieghborhoods/clusters which helped in merging the resultant dataframe with the data pulled from foresquare API in the third step. After which the data was put into a k-means clustering algorithm to reduce it into buckets of similar nature. Finally, the recommender system was built based on the most common venue categories in each cluster using the concept of the Pareto distribution.\n\nFuture developlment can be made to automate the process even further for those who want the machine to pick the neighborhood for them when opening a certain shop or a business, by further studying the economics and/or the urban aspects of those clusters"
        },
        {
            "cell_type": "markdown",
            "metadata": {},
            "source": "# Thank You :)"
        }
    ],
    "metadata": {
        "kernelspec": {
            "display_name": "Python 3.6",
            "language": "python",
            "name": "python3"
        },
        "language_info": {
            "codemirror_mode": {
                "name": "ipython",
                "version": 3
            },
            "file_extension": ".py",
            "mimetype": "text/x-python",
            "name": "python",
            "nbconvert_exporter": "python",
            "pygments_lexer": "ipython3",
            "version": "3.6.9"
        }
    },
    "nbformat": 4,
    "nbformat_minor": 1
}